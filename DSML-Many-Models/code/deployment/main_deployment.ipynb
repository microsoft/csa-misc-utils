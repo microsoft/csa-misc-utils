{
 "cells": [
  {
   "cell_type": "markdown",
   "source": [
    "Follow the steps in https://docs.microsoft.com/en-us/azure/machine-learning/how-to-deploy-managed-online-endpoints to deploy the scoring function to Azure.\r\n",
    "This scoring is on demand, i.e. it only loads the model when the client requests."
   ],
   "metadata": {}
  },
  {
   "cell_type": "code",
   "execution_count": 1,
   "source": [
    "import urllib.request\r\n",
    "import requests\r\n",
    "import pandas as pd\r\n",
    "import json\r\n",
    "for file_name in ['test_data_1000_dominicks.csv','test_data_1002_tropicana.csv']:\r\n",
    "    sample_data= pd.read_csv(file_name)\r\n",
    "    sample_data.drop(['Unnamed: 0'], axis=1, inplace=True)\r\n",
    "    #Use the below version of URL and header in case you test with remote web service (AKS)\r\n",
    "    url ='https://many-model.westus2.inference.ml.azure.com/score'\r\n",
    "    api_key = 'K8It9Dq12BpQu8ryt6VRXZB1AmCzfsZu' # Replace this with the API key for the web service\r\n",
    "    headers = {'Content-Type':'application/json', 'Authorization':('Bearer '+ api_key)}\r\n",
    "\r\n",
    "\r\n",
    "\r\n",
    "    data = {\"Inputs\":sample_data.to_json() }\r\n",
    "    body = str.encode(json.dumps(data))\r\n",
    "    resp = requests.post(url, data=body, headers=headers)\r\n",
    "    print(resp.text)\r\n"
   ],
   "outputs": [
    {
     "output_type": "stream",
     "name": "stderr",
     "text": [
      "C:\\Users\\janguy\\Anaconda3\\envs\\dlresearch\\lib\\site-packages\\numpy\\_distributor_init.py:30: UserWarning: loaded more than 1 DLL from .libs:\n",
      "C:\\Users\\janguy\\Anaconda3\\envs\\dlresearch\\lib\\site-packages\\numpy\\.libs\\libopenblas.NOIJJG62EMASZI6NYURL6JBKM4EVBGM7.gfortran-win_amd64.dll\n",
      "C:\\Users\\janguy\\Anaconda3\\envs\\dlresearch\\lib\\site-packages\\numpy\\.libs\\libopenblas.PYQHXLVVQ7VESDPUVUADXEVJOBGHJPAY.gfortran-win_amd64.dll\n",
      "  warnings.warn(\"loaded more than 1 DLL from .libs:\\n%s\" %\n"
     ]
    },
    {
     "output_type": "stream",
     "name": "stdout",
     "text": [
      "key_auth_access_denied\n",
      "key_auth_access_denied\n"
     ]
    }
   ],
   "metadata": {}
  },
  {
   "cell_type": "code",
   "execution_count": null,
   "source": [],
   "outputs": [],
   "metadata": {}
  }
 ],
 "metadata": {
  "interpreter": {
   "hash": "f7f364c9551711cd4699acda32e0312c3edab483ae246bf330de758088cecccb"
  },
  "kernelspec": {
   "name": "python3",
   "display_name": "Python 3.8.5 64-bit ('dlresearch': conda)"
  },
  "language_info": {
   "codemirror_mode": {
    "name": "ipython",
    "version": 3
   },
   "file_extension": ".py",
   "mimetype": "text/x-python",
   "name": "python",
   "nbconvert_exporter": "python",
   "pygments_lexer": "ipython3",
   "version": "3.8.5"
  },
  "orig_nbformat": 4
 },
 "nbformat": 4,
 "nbformat_minor": 2
}